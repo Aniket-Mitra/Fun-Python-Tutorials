{
  "nbformat": 4,
  "nbformat_minor": 0,
  "metadata": {
    "colab": {
      "name": "Functions_in_Pandas.ipynb",
      "provenance": [],
      "collapsed_sections": []
    },
    "kernelspec": {
      "name": "python3",
      "display_name": "Python 3"
    }
  },
  "cells": [
    {
      "cell_type": "markdown",
      "metadata": {
        "id": "XUsLAoujNIA6",
        "colab_type": "text"
      },
      "source": [
        "# Use of Functions in DataFrames (Part- 2)\n",
        "\n",
        "\n",
        "**Note:**\n",
        "\n",
        "1. I have tried to demonstrate various ways in which you can manipulate dataframes using Pandas.\n",
        "\n",
        "2. Many of the operations shown here can be performed by ready-made pandas fuctions 1 line but I created functions differently for demo purpose.\n",
        "\n",
        "3. I request you to go through each and every functions carefully, and try to implement them on your dataset to see if you are comfortable with them.\n",
        "\n",
        "4. If you find any mistake and unable to understand mailat aniketmitra1997@gmail.com."
      ]
    },
    {
      "cell_type": "code",
      "metadata": {
        "id": "IgLjwj_qrLzX",
        "colab_type": "code",
        "colab": {}
      },
      "source": [
        "# Creating Dummy DataFrame\n",
        "\n",
        "import pandas as pd\n",
        "import numpy as np\n",
        "df=pd.DataFrame({'A':np.random.randint(0,10,5),'B':['Ram','Shyam','Jadu','Rashi','Pawan'],'C':np.random.randn(5)})"
      ],
      "execution_count": 3,
      "outputs": []
    },
    {
      "cell_type": "code",
      "metadata": {
        "id": "nmQQbdZPs6bO",
        "colab_type": "code",
        "colab": {
          "base_uri": "https://localhost:8080/",
          "height": 191
        },
        "outputId": "0a7bf781-63f8-4373-9dbe-c2c4bb3ebd77"
      },
      "source": [
        "df.head()"
      ],
      "execution_count": 4,
      "outputs": [
        {
          "output_type": "execute_result",
          "data": {
            "text/html": [
              "<div>\n",
              "<style scoped>\n",
              "    .dataframe tbody tr th:only-of-type {\n",
              "        vertical-align: middle;\n",
              "    }\n",
              "\n",
              "    .dataframe tbody tr th {\n",
              "        vertical-align: top;\n",
              "    }\n",
              "\n",
              "    .dataframe thead th {\n",
              "        text-align: right;\n",
              "    }\n",
              "</style>\n",
              "<table border=\"1\" class=\"dataframe\">\n",
              "  <thead>\n",
              "    <tr style=\"text-align: right;\">\n",
              "      <th></th>\n",
              "      <th>A</th>\n",
              "      <th>B</th>\n",
              "      <th>C</th>\n",
              "    </tr>\n",
              "  </thead>\n",
              "  <tbody>\n",
              "    <tr>\n",
              "      <th>0</th>\n",
              "      <td>7</td>\n",
              "      <td>Ram</td>\n",
              "      <td>-0.014068</td>\n",
              "    </tr>\n",
              "    <tr>\n",
              "      <th>1</th>\n",
              "      <td>4</td>\n",
              "      <td>Shyam</td>\n",
              "      <td>-0.539744</td>\n",
              "    </tr>\n",
              "    <tr>\n",
              "      <th>2</th>\n",
              "      <td>9</td>\n",
              "      <td>Jadu</td>\n",
              "      <td>-0.281847</td>\n",
              "    </tr>\n",
              "    <tr>\n",
              "      <th>3</th>\n",
              "      <td>7</td>\n",
              "      <td>Rashi</td>\n",
              "      <td>-1.836348</td>\n",
              "    </tr>\n",
              "    <tr>\n",
              "      <th>4</th>\n",
              "      <td>6</td>\n",
              "      <td>Pawan</td>\n",
              "      <td>0.641380</td>\n",
              "    </tr>\n",
              "  </tbody>\n",
              "</table>\n",
              "</div>"
            ],
            "text/plain": [
              "   A      B         C\n",
              "0  7    Ram -0.014068\n",
              "1  4  Shyam -0.539744\n",
              "2  9   Jadu -0.281847\n",
              "3  7  Rashi -1.836348\n",
              "4  6  Pawan  0.641380"
            ]
          },
          "metadata": {
            "tags": []
          },
          "execution_count": 4
        }
      ]
    },
    {
      "cell_type": "code",
      "metadata": {
        "id": "AeL7FwKfBxXn",
        "colab_type": "code",
        "colab": {
          "base_uri": "https://localhost:8080/",
          "height": 115
        },
        "outputId": "e3d76a87-1282-4308-998b-878c79cf56e0"
      },
      "source": [
        "# Printing name in column B as many times as mentions in col A. Eg. Ram will be printed 7 times.\n",
        "\n",
        "def name_repeat(x,y):\n",
        "  return (' '+x)*y\n",
        "df.apply(lambda r: name_repeat(r['B'],r['A']),axis=1)\n",
        "\n",
        "# if you want to incorporate the result into the dataframe use the below code\n",
        "\n",
        "#df['Name_Repeat']=df.apply(lambda r: name_repeat(r['B'],r['A']),axis=1)"
      ],
      "execution_count": 6,
      "outputs": [
        {
          "output_type": "execute_result",
          "data": {
            "text/plain": [
              "0                      Ram Ram Ram Ram Ram Ram Ram\n",
              "1                          Shyam Shyam Shyam Shyam\n",
              "2     Jadu Jadu Jadu Jadu Jadu Jadu Jadu Jadu Jadu\n",
              "3        Rashi Rashi Rashi Rashi Rashi Rashi Rashi\n",
              "4              Pawan Pawan Pawan Pawan Pawan Pawan\n",
              "dtype: object"
            ]
          },
          "metadata": {
            "tags": []
          },
          "execution_count": 6
        }
      ]
    },
    {
      "cell_type": "code",
      "metadata": {
        "id": "Jod1JCQEtCx0",
        "colab_type": "code",
        "colab": {
          "base_uri": "https://localhost:8080/",
          "height": 87
        },
        "outputId": "1677fae1-1160-4946-adf8-73dcc4c80926"
      },
      "source": [
        "# Obtain all the names in col B with length greater than 4 using lambda function\n",
        "\n",
        "df[df['B'].apply(lambda x: len(x)>4)]['B']"
      ],
      "execution_count": null,
      "outputs": [
        {
          "output_type": "execute_result",
          "data": {
            "text/plain": [
              "1     Shyam\n",
              "3    Naresh\n",
              "4     Pawan\n",
              "Name: B, dtype: object"
            ]
          },
          "metadata": {
            "tags": []
          },
          "execution_count": 3
        }
      ]
    },
    {
      "cell_type": "code",
      "metadata": {
        "id": "uiX9fCKKvn-k",
        "colab_type": "code",
        "colab": {
          "base_uri": "https://localhost:8080/",
          "height": 115
        },
        "outputId": "d041f6b4-f235-48fc-a128-0ff28cfa7a17"
      },
      "source": [
        "# Here using function we want to see if some names given in a list are present in dataframe column and return only those names\n",
        "\n",
        "def name_check(x):\n",
        "  import re\n",
        "  list=['Ram','Jadu']\n",
        "  for i in list:\n",
        "    if i in x:\n",
        "      return x\n",
        "   \n",
        "\n",
        "\n",
        "df['B'].apply(name_check)"
      ],
      "execution_count": 56,
      "outputs": [
        {
          "output_type": "execute_result",
          "data": {
            "text/plain": [
              "0     Ram\n",
              "1    None\n",
              "2    Jadu\n",
              "3    None\n",
              "4    None\n",
              "Name: B, dtype: object"
            ]
          },
          "metadata": {
            "tags": []
          },
          "execution_count": 56
        }
      ]
    },
    {
      "cell_type": "code",
      "metadata": {
        "id": "ANwF4SPT1pJH",
        "colab_type": "code",
        "colab": {
          "base_uri": "https://localhost:8080/",
          "height": 123
        },
        "outputId": "0cc2844f-694a-415a-dfe3-d5c3a2d5cd5b"
      },
      "source": [
        "# Add salutation 'Mr.' before names after uppercasing them\n",
        "\n",
        "def name_manipulate(x):\n",
        "    return ('Mr. '+ x.upper())\n",
        "df['B'].apply(name_manipulate)"
      ],
      "execution_count": null,
      "outputs": [
        {
          "output_type": "execute_result",
          "data": {
            "text/plain": [
              "0       Mr. RAM\n",
              "1     Mr. SHYAM\n",
              "2      Mr. JADU\n",
              "3    Mr. NARESH\n",
              "4     Mr. PAWAN\n",
              "Name: B, dtype: object"
            ]
          },
          "metadata": {
            "tags": []
          },
          "execution_count": 5
        }
      ]
    },
    {
      "cell_type": "code",
      "metadata": {
        "id": "-AeIiXelqgf8",
        "colab_type": "code",
        "colab": {
          "base_uri": "https://localhost:8080/",
          "height": 191
        },
        "outputId": "c71afcc4-7c71-4a99-ff0a-e080aea071ea"
      },
      "source": [
        "# Create another new sample dataframe\n",
        "\n",
        "df_=pd.DataFrame({'A':['Not Known','NaN','Yes','Yes','Yes','nan'],'B':['Hello','Morning!!','-','NaN','nan','nan']})\n",
        "df_.head()"
      ],
      "execution_count": 18,
      "outputs": [
        {
          "output_type": "execute_result",
          "data": {
            "text/html": [
              "<div>\n",
              "<style scoped>\n",
              "    .dataframe tbody tr th:only-of-type {\n",
              "        vertical-align: middle;\n",
              "    }\n",
              "\n",
              "    .dataframe tbody tr th {\n",
              "        vertical-align: top;\n",
              "    }\n",
              "\n",
              "    .dataframe thead th {\n",
              "        text-align: right;\n",
              "    }\n",
              "</style>\n",
              "<table border=\"1\" class=\"dataframe\">\n",
              "  <thead>\n",
              "    <tr style=\"text-align: right;\">\n",
              "      <th></th>\n",
              "      <th>A</th>\n",
              "      <th>B</th>\n",
              "    </tr>\n",
              "  </thead>\n",
              "  <tbody>\n",
              "    <tr>\n",
              "      <th>0</th>\n",
              "      <td>Not Known</td>\n",
              "      <td>Hello</td>\n",
              "    </tr>\n",
              "    <tr>\n",
              "      <th>1</th>\n",
              "      <td>NaN</td>\n",
              "      <td>Morning!!</td>\n",
              "    </tr>\n",
              "    <tr>\n",
              "      <th>2</th>\n",
              "      <td>Yes</td>\n",
              "      <td>-</td>\n",
              "    </tr>\n",
              "    <tr>\n",
              "      <th>3</th>\n",
              "      <td>Yes</td>\n",
              "      <td>NaN</td>\n",
              "    </tr>\n",
              "    <tr>\n",
              "      <th>4</th>\n",
              "      <td>Yes</td>\n",
              "      <td>nan</td>\n",
              "    </tr>\n",
              "  </tbody>\n",
              "</table>\n",
              "</div>"
            ],
            "text/plain": [
              "           A          B\n",
              "0  Not Known      Hello\n",
              "1        NaN  Morning!!\n",
              "2        Yes          -\n",
              "3        Yes        NaN\n",
              "4        Yes        nan"
            ]
          },
          "metadata": {
            "tags": []
          },
          "execution_count": 18
        }
      ]
    },
    {
      "cell_type": "code",
      "metadata": {
        "id": "uoO_G0nb-28x",
        "colab_type": "code",
        "colab": {
          "base_uri": "https://localhost:8080/",
          "height": 98
        },
        "outputId": "fc95b222-bc5b-433f-8720-b1a6e5608486"
      },
      "source": [
        "# Count the number of words in each col that begin with 'Y' letter\n",
        "\n",
        "def nan_val_regex(*args,pattern):\n",
        "\n",
        "  for arg in args:\n",
        "      print(arg.name,len(arg[arg.str.contains(pattern)]))\n",
        "      print('------------')\n",
        "  \n",
        "print(nan_val_regex(df_['A'],df_['B'],pattern='^Y'))"
      ],
      "execution_count": 35,
      "outputs": [
        {
          "output_type": "stream",
          "text": [
            "A 3\n",
            "------------\n",
            "B 0\n",
            "------------\n",
            "None\n"
          ],
          "name": "stdout"
        }
      ]
    },
    {
      "cell_type": "code",
      "metadata": {
        "id": "ZrbWuuORJPRW",
        "colab_type": "code",
        "colab": {
          "base_uri": "https://localhost:8080/",
          "height": 131
        },
        "outputId": "b6bcd47f-edf5-44a4-db88-eca2cbdf8dd6"
      },
      "source": [
        "# Using lambda function to replace '!' by  '$'\n",
        "\n",
        "df_['B'].apply(lambda x: x.replace('!','$'))"
      ],
      "execution_count": 38,
      "outputs": [
        {
          "output_type": "execute_result",
          "data": {
            "text/plain": [
              "0        Hello\n",
              "1    Morning$$\n",
              "2            -\n",
              "3          NaN\n",
              "4          nan\n",
              "5          nan\n",
              "Name: B, dtype: object"
            ]
          },
          "metadata": {
            "tags": []
          },
          "execution_count": 38
        }
      ]
    },
    {
      "cell_type": "code",
      "metadata": {
        "id": "HGAoSb0srD4U",
        "colab_type": "code",
        "colab": {
          "base_uri": "https://localhost:8080/",
          "height": 227
        },
        "outputId": "d785f95c-1a77-471f-cb12-132fd9c186e2"
      },
      "source": [
        "# Checking missing values in columns by defining a set of missing values that can be present in the dataset. Note we use 'applymap' here instead of 'apply' . We cannot use applymap for series objecs\n",
        "# i.e, for single col of DataFrame\n",
        "\n",
        "def missing_val(x):\n",
        "  if (x=='Not Known' or x=='NaN' or x=='nan' or x=='-'):\n",
        "    return 'Valur not Known'\n",
        "  return x\n",
        "df_.applymap(missing_val)"
      ],
      "execution_count": null,
      "outputs": [
        {
          "output_type": "execute_result",
          "data": {
            "text/html": [
              "<div>\n",
              "<style scoped>\n",
              "    .dataframe tbody tr th:only-of-type {\n",
              "        vertical-align: middle;\n",
              "    }\n",
              "\n",
              "    .dataframe tbody tr th {\n",
              "        vertical-align: top;\n",
              "    }\n",
              "\n",
              "    .dataframe thead th {\n",
              "        text-align: right;\n",
              "    }\n",
              "</style>\n",
              "<table border=\"1\" class=\"dataframe\">\n",
              "  <thead>\n",
              "    <tr style=\"text-align: right;\">\n",
              "      <th></th>\n",
              "      <th>A</th>\n",
              "      <th>B</th>\n",
              "    </tr>\n",
              "  </thead>\n",
              "  <tbody>\n",
              "    <tr>\n",
              "      <th>0</th>\n",
              "      <td>Valur not Known</td>\n",
              "      <td>Hello</td>\n",
              "    </tr>\n",
              "    <tr>\n",
              "      <th>1</th>\n",
              "      <td>Valur not Known</td>\n",
              "      <td>Morning!!</td>\n",
              "    </tr>\n",
              "    <tr>\n",
              "      <th>2</th>\n",
              "      <td>Yes</td>\n",
              "      <td>Valur not Known</td>\n",
              "    </tr>\n",
              "    <tr>\n",
              "      <th>3</th>\n",
              "      <td>Yes</td>\n",
              "      <td>Valur not Known</td>\n",
              "    </tr>\n",
              "    <tr>\n",
              "      <th>4</th>\n",
              "      <td>Yes</td>\n",
              "      <td>Valur not Known</td>\n",
              "    </tr>\n",
              "    <tr>\n",
              "      <th>5</th>\n",
              "      <td>Valur not Known</td>\n",
              "      <td>Valur not Known</td>\n",
              "    </tr>\n",
              "  </tbody>\n",
              "</table>\n",
              "</div>"
            ],
            "text/plain": [
              "                 A                B\n",
              "0  Valur not Known            Hello\n",
              "1  Valur not Known        Morning!!\n",
              "2              Yes  Valur not Known\n",
              "3              Yes  Valur not Known\n",
              "4              Yes  Valur not Known\n",
              "5  Valur not Known  Valur not Known"
            ]
          },
          "metadata": {
            "tags": []
          },
          "execution_count": 99
        }
      ]
    },
    {
      "cell_type": "code",
      "metadata": {
        "id": "ZKfXdQ0PtYul",
        "colab_type": "code",
        "colab": {
          "base_uri": "https://localhost:8080/",
          "height": 115
        },
        "outputId": "f6fa4e6e-6108-4042-c1e2-62b2b46eda12"
      },
      "source": [
        "# In column A of Dataframe df we first subtract 11 from each number present in each row and then divide each of them by 12.\n",
        "\n",
        "df['A'].apply(lambda x: (x-11)/12)"
      ],
      "execution_count": 59,
      "outputs": [
        {
          "output_type": "execute_result",
          "data": {
            "text/plain": [
              "0   -0.333333\n",
              "1   -0.583333\n",
              "2   -0.166667\n",
              "3   -0.333333\n",
              "4   -0.416667\n",
              "Name: A, dtype: float64"
            ]
          },
          "metadata": {
            "tags": []
          },
          "execution_count": 59
        }
      ]
    },
    {
      "cell_type": "code",
      "metadata": {
        "id": "DHUCRS9PuXOq",
        "colab_type": "code",
        "colab": {
          "base_uri": "https://localhost:8080/",
          "height": 191
        },
        "outputId": "47863f0a-023c-46eb-c177-c2a0c2b55f68"
      },
      "source": [
        "# The previous operation as before this time for 2 columns. Note since we are using cols it's no longer a series but a dataframe so we can also use applymap here.\n",
        "\n",
        "df[['A','C']].apply(lambda x: (x-11)/12)\n",
        "\n",
        "#df[['A','C']].apply(lambda x: (x-11)/12)"
      ],
      "execution_count": 62,
      "outputs": [
        {
          "output_type": "execute_result",
          "data": {
            "text/html": [
              "<div>\n",
              "<style scoped>\n",
              "    .dataframe tbody tr th:only-of-type {\n",
              "        vertical-align: middle;\n",
              "    }\n",
              "\n",
              "    .dataframe tbody tr th {\n",
              "        vertical-align: top;\n",
              "    }\n",
              "\n",
              "    .dataframe thead th {\n",
              "        text-align: right;\n",
              "    }\n",
              "</style>\n",
              "<table border=\"1\" class=\"dataframe\">\n",
              "  <thead>\n",
              "    <tr style=\"text-align: right;\">\n",
              "      <th></th>\n",
              "      <th>A</th>\n",
              "      <th>C</th>\n",
              "    </tr>\n",
              "  </thead>\n",
              "  <tbody>\n",
              "    <tr>\n",
              "      <th>0</th>\n",
              "      <td>-0.333333</td>\n",
              "      <td>-0.917839</td>\n",
              "    </tr>\n",
              "    <tr>\n",
              "      <th>1</th>\n",
              "      <td>-0.583333</td>\n",
              "      <td>-0.961645</td>\n",
              "    </tr>\n",
              "    <tr>\n",
              "      <th>2</th>\n",
              "      <td>-0.166667</td>\n",
              "      <td>-0.940154</td>\n",
              "    </tr>\n",
              "    <tr>\n",
              "      <th>3</th>\n",
              "      <td>-0.333333</td>\n",
              "      <td>-1.069696</td>\n",
              "    </tr>\n",
              "    <tr>\n",
              "      <th>4</th>\n",
              "      <td>-0.416667</td>\n",
              "      <td>-0.863218</td>\n",
              "    </tr>\n",
              "  </tbody>\n",
              "</table>\n",
              "</div>"
            ],
            "text/plain": [
              "          A         C\n",
              "0 -0.333333 -0.917839\n",
              "1 -0.583333 -0.961645\n",
              "2 -0.166667 -0.940154\n",
              "3 -0.333333 -1.069696\n",
              "4 -0.416667 -0.863218"
            ]
          },
          "metadata": {
            "tags": []
          },
          "execution_count": 62
        }
      ]
    },
    {
      "cell_type": "code",
      "metadata": {
        "id": "hjxalOwAuevV",
        "colab_type": "code",
        "colab": {
          "base_uri": "https://localhost:8080/",
          "height": 70
        },
        "outputId": "26859120-0770-4db4-b026-4d3fa08be9be"
      },
      "source": [
        "# Selecting columns with datatypes as int or float and then summing across the whole column and then dividing the sum by the standard deviation of each column.\n",
        "\n",
        "def count(x):\n",
        "  return np.sum(x)/np.std(x)\n",
        "df.select_dtypes(['int','float']).apply(count)"
      ],
      "execution_count": null,
      "outputs": [
        {
          "output_type": "execute_result",
          "data": {
            "text/plain": [
              "A    5.345225\n",
              "C   -0.745335\n",
              "dtype: float64"
            ]
          },
          "metadata": {
            "tags": []
          },
          "execution_count": 8
        }
      ]
    },
    {
      "cell_type": "code",
      "metadata": {
        "id": "kT_4cFP7WTvM",
        "colab_type": "code",
        "colab": {
          "base_uri": "https://localhost:8080/",
          "height": 123
        },
        "outputId": "1c81a49a-3a5b-4599-b06f-064f00d4dec4"
      },
      "source": [
        "# Here we are doing subtraction from each row of 'A' col of Dataframe by the max value of the entire column\n",
        "\n",
        "df['A'].transform(lambda x: x-x.max())"
      ],
      "execution_count": null,
      "outputs": [
        {
          "output_type": "execute_result",
          "data": {
            "text/plain": [
              "0   -3\n",
              "1   -3\n",
              "2    0\n",
              "3   -6\n",
              "4   -6\n",
              "Name: A, dtype: int64"
            ]
          },
          "metadata": {
            "tags": []
          },
          "execution_count": 11
        }
      ]
    },
    {
      "cell_type": "code",
      "metadata": {
        "id": "LdIoXdDKWoij",
        "colab_type": "code",
        "colab": {}
      },
      "source": [
        "# Creating another sample DataFrame\n",
        "\n",
        "df1=pd.DataFrame({'Subject':['Chemistry','Physics','Maths','Biology','English','Hindi']*5,\"Score_Test1\":np.random.randint(10,101,30),\"Score_Test2\":np.random.randint(0,101,30)})"
      ],
      "execution_count": null,
      "outputs": []
    },
    {
      "cell_type": "code",
      "metadata": {
        "id": "eqU1KBt7Zzix",
        "colab_type": "code",
        "colab": {
          "base_uri": "https://localhost:8080/",
          "height": 197
        },
        "outputId": "79b4a77a-f2e9-46b4-85ae-48834d4d59b7"
      },
      "source": [
        "df1.head()"
      ],
      "execution_count": null,
      "outputs": [
        {
          "output_type": "execute_result",
          "data": {
            "text/html": [
              "<div>\n",
              "<style scoped>\n",
              "    .dataframe tbody tr th:only-of-type {\n",
              "        vertical-align: middle;\n",
              "    }\n",
              "\n",
              "    .dataframe tbody tr th {\n",
              "        vertical-align: top;\n",
              "    }\n",
              "\n",
              "    .dataframe thead th {\n",
              "        text-align: right;\n",
              "    }\n",
              "</style>\n",
              "<table border=\"1\" class=\"dataframe\">\n",
              "  <thead>\n",
              "    <tr style=\"text-align: right;\">\n",
              "      <th></th>\n",
              "      <th>Subject</th>\n",
              "      <th>Score_Test1</th>\n",
              "      <th>Score_Test2</th>\n",
              "    </tr>\n",
              "  </thead>\n",
              "  <tbody>\n",
              "    <tr>\n",
              "      <th>0</th>\n",
              "      <td>Chemistry</td>\n",
              "      <td>38</td>\n",
              "      <td>84</td>\n",
              "    </tr>\n",
              "    <tr>\n",
              "      <th>1</th>\n",
              "      <td>Physics</td>\n",
              "      <td>23</td>\n",
              "      <td>4</td>\n",
              "    </tr>\n",
              "    <tr>\n",
              "      <th>2</th>\n",
              "      <td>Maths</td>\n",
              "      <td>58</td>\n",
              "      <td>61</td>\n",
              "    </tr>\n",
              "    <tr>\n",
              "      <th>3</th>\n",
              "      <td>Biology</td>\n",
              "      <td>21</td>\n",
              "      <td>91</td>\n",
              "    </tr>\n",
              "    <tr>\n",
              "      <th>4</th>\n",
              "      <td>English</td>\n",
              "      <td>40</td>\n",
              "      <td>9</td>\n",
              "    </tr>\n",
              "  </tbody>\n",
              "</table>\n",
              "</div>"
            ],
            "text/plain": [
              "     Subject  Score_Test1  Score_Test2\n",
              "0  Chemistry           38           84\n",
              "1    Physics           23            4\n",
              "2      Maths           58           61\n",
              "3    Biology           21           91\n",
              "4    English           40            9"
            ]
          },
          "metadata": {
            "tags": []
          },
          "execution_count": 61
        }
      ]
    },
    {
      "cell_type": "code",
      "metadata": {
        "id": "E3FFl23zbiog",
        "colab_type": "code",
        "colab": {
          "base_uri": "https://localhost:8080/",
          "height": 947
        },
        "outputId": "72cf1d2d-9b9d-4ba0-f69c-dc13318ce50d"
      },
      "source": [
        "# We are finding the average of the two test scores for each row. Note the use of groupby here.\n",
        "\n",
        "def score_agg(x):\n",
        "   x['Agg_Score']=(x['Score_Test1']+x['Score_Test2'])/2\n",
        "   return x\n",
        "df2=df1.groupby('Subject').apply(score_agg)\n",
        "df2"
      ],
      "execution_count": null,
      "outputs": [
        {
          "output_type": "execute_result",
          "data": {
            "text/html": [
              "<div>\n",
              "<style scoped>\n",
              "    .dataframe tbody tr th:only-of-type {\n",
              "        vertical-align: middle;\n",
              "    }\n",
              "\n",
              "    .dataframe tbody tr th {\n",
              "        vertical-align: top;\n",
              "    }\n",
              "\n",
              "    .dataframe thead th {\n",
              "        text-align: right;\n",
              "    }\n",
              "</style>\n",
              "<table border=\"1\" class=\"dataframe\">\n",
              "  <thead>\n",
              "    <tr style=\"text-align: right;\">\n",
              "      <th></th>\n",
              "      <th>Subject</th>\n",
              "      <th>Score_Test1</th>\n",
              "      <th>Score_Test2</th>\n",
              "      <th>Agg_Score</th>\n",
              "    </tr>\n",
              "  </thead>\n",
              "  <tbody>\n",
              "    <tr>\n",
              "      <th>0</th>\n",
              "      <td>Chemistry</td>\n",
              "      <td>38</td>\n",
              "      <td>84</td>\n",
              "      <td>61.0</td>\n",
              "    </tr>\n",
              "    <tr>\n",
              "      <th>1</th>\n",
              "      <td>Physics</td>\n",
              "      <td>23</td>\n",
              "      <td>4</td>\n",
              "      <td>13.5</td>\n",
              "    </tr>\n",
              "    <tr>\n",
              "      <th>2</th>\n",
              "      <td>Maths</td>\n",
              "      <td>58</td>\n",
              "      <td>61</td>\n",
              "      <td>59.5</td>\n",
              "    </tr>\n",
              "    <tr>\n",
              "      <th>3</th>\n",
              "      <td>Biology</td>\n",
              "      <td>21</td>\n",
              "      <td>91</td>\n",
              "      <td>56.0</td>\n",
              "    </tr>\n",
              "    <tr>\n",
              "      <th>4</th>\n",
              "      <td>English</td>\n",
              "      <td>40</td>\n",
              "      <td>9</td>\n",
              "      <td>24.5</td>\n",
              "    </tr>\n",
              "    <tr>\n",
              "      <th>5</th>\n",
              "      <td>Hindi</td>\n",
              "      <td>32</td>\n",
              "      <td>60</td>\n",
              "      <td>46.0</td>\n",
              "    </tr>\n",
              "    <tr>\n",
              "      <th>6</th>\n",
              "      <td>Chemistry</td>\n",
              "      <td>30</td>\n",
              "      <td>22</td>\n",
              "      <td>26.0</td>\n",
              "    </tr>\n",
              "    <tr>\n",
              "      <th>7</th>\n",
              "      <td>Physics</td>\n",
              "      <td>94</td>\n",
              "      <td>28</td>\n",
              "      <td>61.0</td>\n",
              "    </tr>\n",
              "    <tr>\n",
              "      <th>8</th>\n",
              "      <td>Maths</td>\n",
              "      <td>51</td>\n",
              "      <td>46</td>\n",
              "      <td>48.5</td>\n",
              "    </tr>\n",
              "    <tr>\n",
              "      <th>9</th>\n",
              "      <td>Biology</td>\n",
              "      <td>72</td>\n",
              "      <td>21</td>\n",
              "      <td>46.5</td>\n",
              "    </tr>\n",
              "    <tr>\n",
              "      <th>10</th>\n",
              "      <td>English</td>\n",
              "      <td>77</td>\n",
              "      <td>20</td>\n",
              "      <td>48.5</td>\n",
              "    </tr>\n",
              "    <tr>\n",
              "      <th>11</th>\n",
              "      <td>Hindi</td>\n",
              "      <td>43</td>\n",
              "      <td>9</td>\n",
              "      <td>26.0</td>\n",
              "    </tr>\n",
              "    <tr>\n",
              "      <th>12</th>\n",
              "      <td>Chemistry</td>\n",
              "      <td>86</td>\n",
              "      <td>76</td>\n",
              "      <td>81.0</td>\n",
              "    </tr>\n",
              "    <tr>\n",
              "      <th>13</th>\n",
              "      <td>Physics</td>\n",
              "      <td>24</td>\n",
              "      <td>27</td>\n",
              "      <td>25.5</td>\n",
              "    </tr>\n",
              "    <tr>\n",
              "      <th>14</th>\n",
              "      <td>Maths</td>\n",
              "      <td>41</td>\n",
              "      <td>83</td>\n",
              "      <td>62.0</td>\n",
              "    </tr>\n",
              "    <tr>\n",
              "      <th>15</th>\n",
              "      <td>Biology</td>\n",
              "      <td>25</td>\n",
              "      <td>89</td>\n",
              "      <td>57.0</td>\n",
              "    </tr>\n",
              "    <tr>\n",
              "      <th>16</th>\n",
              "      <td>English</td>\n",
              "      <td>41</td>\n",
              "      <td>44</td>\n",
              "      <td>42.5</td>\n",
              "    </tr>\n",
              "    <tr>\n",
              "      <th>17</th>\n",
              "      <td>Hindi</td>\n",
              "      <td>44</td>\n",
              "      <td>28</td>\n",
              "      <td>36.0</td>\n",
              "    </tr>\n",
              "    <tr>\n",
              "      <th>18</th>\n",
              "      <td>Chemistry</td>\n",
              "      <td>92</td>\n",
              "      <td>68</td>\n",
              "      <td>80.0</td>\n",
              "    </tr>\n",
              "    <tr>\n",
              "      <th>19</th>\n",
              "      <td>Physics</td>\n",
              "      <td>42</td>\n",
              "      <td>72</td>\n",
              "      <td>57.0</td>\n",
              "    </tr>\n",
              "    <tr>\n",
              "      <th>20</th>\n",
              "      <td>Maths</td>\n",
              "      <td>40</td>\n",
              "      <td>74</td>\n",
              "      <td>57.0</td>\n",
              "    </tr>\n",
              "    <tr>\n",
              "      <th>21</th>\n",
              "      <td>Biology</td>\n",
              "      <td>15</td>\n",
              "      <td>59</td>\n",
              "      <td>37.0</td>\n",
              "    </tr>\n",
              "    <tr>\n",
              "      <th>22</th>\n",
              "      <td>English</td>\n",
              "      <td>71</td>\n",
              "      <td>43</td>\n",
              "      <td>57.0</td>\n",
              "    </tr>\n",
              "    <tr>\n",
              "      <th>23</th>\n",
              "      <td>Hindi</td>\n",
              "      <td>32</td>\n",
              "      <td>18</td>\n",
              "      <td>25.0</td>\n",
              "    </tr>\n",
              "    <tr>\n",
              "      <th>24</th>\n",
              "      <td>Chemistry</td>\n",
              "      <td>75</td>\n",
              "      <td>23</td>\n",
              "      <td>49.0</td>\n",
              "    </tr>\n",
              "    <tr>\n",
              "      <th>25</th>\n",
              "      <td>Physics</td>\n",
              "      <td>55</td>\n",
              "      <td>4</td>\n",
              "      <td>29.5</td>\n",
              "    </tr>\n",
              "    <tr>\n",
              "      <th>26</th>\n",
              "      <td>Maths</td>\n",
              "      <td>42</td>\n",
              "      <td>50</td>\n",
              "      <td>46.0</td>\n",
              "    </tr>\n",
              "    <tr>\n",
              "      <th>27</th>\n",
              "      <td>Biology</td>\n",
              "      <td>84</td>\n",
              "      <td>58</td>\n",
              "      <td>71.0</td>\n",
              "    </tr>\n",
              "    <tr>\n",
              "      <th>28</th>\n",
              "      <td>English</td>\n",
              "      <td>45</td>\n",
              "      <td>40</td>\n",
              "      <td>42.5</td>\n",
              "    </tr>\n",
              "    <tr>\n",
              "      <th>29</th>\n",
              "      <td>Hindi</td>\n",
              "      <td>43</td>\n",
              "      <td>64</td>\n",
              "      <td>53.5</td>\n",
              "    </tr>\n",
              "  </tbody>\n",
              "</table>\n",
              "</div>"
            ],
            "text/plain": [
              "      Subject  Score_Test1  Score_Test2  Agg_Score\n",
              "0   Chemistry           38           84       61.0\n",
              "1     Physics           23            4       13.5\n",
              "2       Maths           58           61       59.5\n",
              "3     Biology           21           91       56.0\n",
              "4     English           40            9       24.5\n",
              "5       Hindi           32           60       46.0\n",
              "6   Chemistry           30           22       26.0\n",
              "7     Physics           94           28       61.0\n",
              "8       Maths           51           46       48.5\n",
              "9     Biology           72           21       46.5\n",
              "10    English           77           20       48.5\n",
              "11      Hindi           43            9       26.0\n",
              "12  Chemistry           86           76       81.0\n",
              "13    Physics           24           27       25.5\n",
              "14      Maths           41           83       62.0\n",
              "15    Biology           25           89       57.0\n",
              "16    English           41           44       42.5\n",
              "17      Hindi           44           28       36.0\n",
              "18  Chemistry           92           68       80.0\n",
              "19    Physics           42           72       57.0\n",
              "20      Maths           40           74       57.0\n",
              "21    Biology           15           59       37.0\n",
              "22    English           71           43       57.0\n",
              "23      Hindi           32           18       25.0\n",
              "24  Chemistry           75           23       49.0\n",
              "25    Physics           55            4       29.5\n",
              "26      Maths           42           50       46.0\n",
              "27    Biology           84           58       71.0\n",
              "28    English           45           40       42.5\n",
              "29      Hindi           43           64       53.5"
            ]
          },
          "metadata": {
            "tags": []
          },
          "execution_count": 62
        }
      ]
    },
    {
      "cell_type": "code",
      "metadata": {
        "id": "0SME4f57cdt7",
        "colab_type": "code",
        "colab": {
          "base_uri": "https://localhost:8080/",
          "height": 257
        },
        "outputId": "daefb0f4-ed9c-4574-b893-d8dd84cef764"
      },
      "source": [
        "# We can doing the mean of Agg_Score calculated in last cell across all subjects.\n",
        "# First we are calcualting Agg_Score for each row as shown in above cell\n",
        "# Then np.mean is used to perform the mean across each subject.\n",
        "\n",
        "def score_agg(x):\n",
        "   x['Agg_Score']=(x['Score_Test1']+x['Score_Test2'])/2\n",
        "   return np.mean(x)\n",
        "df1.groupby('Subject').apply(score_agg)\n"
      ],
      "execution_count": null,
      "outputs": [
        {
          "output_type": "execute_result",
          "data": {
            "text/html": [
              "<div>\n",
              "<style scoped>\n",
              "    .dataframe tbody tr th:only-of-type {\n",
              "        vertical-align: middle;\n",
              "    }\n",
              "\n",
              "    .dataframe tbody tr th {\n",
              "        vertical-align: top;\n",
              "    }\n",
              "\n",
              "    .dataframe thead th {\n",
              "        text-align: right;\n",
              "    }\n",
              "</style>\n",
              "<table border=\"1\" class=\"dataframe\">\n",
              "  <thead>\n",
              "    <tr style=\"text-align: right;\">\n",
              "      <th></th>\n",
              "      <th>Score_Test1</th>\n",
              "      <th>Score_Test2</th>\n",
              "      <th>Agg_Score</th>\n",
              "    </tr>\n",
              "    <tr>\n",
              "      <th>Subject</th>\n",
              "      <th></th>\n",
              "      <th></th>\n",
              "      <th></th>\n",
              "    </tr>\n",
              "  </thead>\n",
              "  <tbody>\n",
              "    <tr>\n",
              "      <th>Biology</th>\n",
              "      <td>43.4</td>\n",
              "      <td>63.6</td>\n",
              "      <td>53.5</td>\n",
              "    </tr>\n",
              "    <tr>\n",
              "      <th>Chemistry</th>\n",
              "      <td>64.2</td>\n",
              "      <td>54.6</td>\n",
              "      <td>59.4</td>\n",
              "    </tr>\n",
              "    <tr>\n",
              "      <th>English</th>\n",
              "      <td>54.8</td>\n",
              "      <td>31.2</td>\n",
              "      <td>43.0</td>\n",
              "    </tr>\n",
              "    <tr>\n",
              "      <th>Hindi</th>\n",
              "      <td>38.8</td>\n",
              "      <td>35.8</td>\n",
              "      <td>37.3</td>\n",
              "    </tr>\n",
              "    <tr>\n",
              "      <th>Maths</th>\n",
              "      <td>46.4</td>\n",
              "      <td>62.8</td>\n",
              "      <td>54.6</td>\n",
              "    </tr>\n",
              "    <tr>\n",
              "      <th>Physics</th>\n",
              "      <td>47.6</td>\n",
              "      <td>27.0</td>\n",
              "      <td>37.3</td>\n",
              "    </tr>\n",
              "  </tbody>\n",
              "</table>\n",
              "</div>"
            ],
            "text/plain": [
              "           Score_Test1  Score_Test2  Agg_Score\n",
              "Subject                                       \n",
              "Biology           43.4         63.6       53.5\n",
              "Chemistry         64.2         54.6       59.4\n",
              "English           54.8         31.2       43.0\n",
              "Hindi             38.8         35.8       37.3\n",
              "Maths             46.4         62.8       54.6\n",
              "Physics           47.6         27.0       37.3"
            ]
          },
          "metadata": {
            "tags": []
          },
          "execution_count": 63
        }
      ]
    },
    {
      "cell_type": "code",
      "metadata": {
        "id": "6YG_oWrPogJw",
        "colab_type": "code",
        "colab": {
          "base_uri": "https://localhost:8080/",
          "height": 158
        },
        "outputId": "bd531cd3-6cf8-4560-ed92-54a37a7aeb52"
      },
      "source": [
        "# Here we \n",
        "# 1. subtract the mean value of Agg_Score column subtract the value from each row\n",
        "# 2. divide the above value with the standard deviation of the column\n",
        "# 3. then obtaining the max value of the above operation for each subject\n",
        "\n",
        "(s-s.mean())/s.std()).max()\n",
        "df2.groupby('Subject')['Agg_Score'].agg(math_func)"
      ],
      "execution_count": null,
      "outputs": [
        {
          "output_type": "execute_result",
          "data": {
            "text/plain": [
              "Subject\n",
              "Biology      1.377057\n",
              "Chemistry    0.938864\n",
              "English      1.173821\n",
              "Hindi        1.302476\n",
              "Maths        1.057953\n",
              "Physics      1.144147\n",
              "Name: Agg_Score, dtype: float64"
            ]
          },
          "metadata": {
            "tags": []
          },
          "execution_count": 90
        }
      ]
    },
    {
      "cell_type": "code",
      "metadata": {
        "id": "LR4n7BZ-d9mT",
        "colab_type": "code",
        "colab": {
          "base_uri": "https://localhost:8080/",
          "height": 158
        },
        "outputId": "d77673ae-d8a4-4d10-8f86-24f21e41c09c"
      },
      "source": [
        "# We are calculating the the average of Agg_Score for all rows across each subject where value is greater than  40 \n",
        "\n",
        "def avg(s,aveg):\n",
        "  final=s[s>aveg]\n",
        "  return final.mean()\n",
        "df2.groupby(['Subject'])['Agg_Score'].agg(avg,40)"
      ],
      "execution_count": null,
      "outputs": [
        {
          "output_type": "execute_result",
          "data": {
            "text/plain": [
              "Subject\n",
              "Biology      57.625\n",
              "Chemistry    67.750\n",
              "English      47.625\n",
              "Hindi        49.750\n",
              "Maths        54.600\n",
              "Physics      59.000\n",
              "Name: Agg_Score, dtype: float64"
            ]
          },
          "metadata": {
            "tags": []
          },
          "execution_count": 74
        }
      ]
    },
    {
      "cell_type": "markdown",
      "metadata": {
        "id": "ZlU8OclFTxYH",
        "colab_type": "text"
      },
      "source": [
        "Same operations we 'apply' with object/string column can be applied to numerical cols too. "
      ]
    },
    {
      "cell_type": "markdown",
      "metadata": {
        "id": "2qtDC6i1T-wR",
        "colab_type": "text"
      },
      "source": [
        "**If I can make functions in more innovative ways I will come out with another tutorial.**"
      ]
    }
  ]
}