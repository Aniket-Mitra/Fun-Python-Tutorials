{
  "nbformat": 4,
  "nbformat_minor": 0,
  "metadata": {
    "colab": {
      "name": "Differentiation_Integration.ipynb",
      "provenance": [],
      "collapsed_sections": []
    },
    "kernelspec": {
      "name": "python3",
      "display_name": "Python 3"
    }
  },
  "cells": [
    {
      "cell_type": "markdown",
      "metadata": {
        "id": "kODMhYGvI_W0",
        "colab_type": "text"
      },
      "source": [
        "# Integration & Differentiation in Python\n",
        "\n",
        "**We are using SymPy library of Python for our task.**"
      ]
    },
    {
      "cell_type": "code",
      "metadata": {
        "id": "1LO-QxwMng5Y",
        "colab_type": "code",
        "colab": {}
      },
      "source": [
        "# Importing necessary package\n",
        "\n",
        "from sympy import  symbols, diff, integrate, lambdify,sin, tan, log, cot,csc, cos\n",
        "\n"
      ],
      "execution_count": 16,
      "outputs": []
    },
    {
      "cell_type": "markdown",
      "metadata": {
        "id": "X4AkqcfGJWbq",
        "colab_type": "text"
      },
      "source": [
        "# Differentiation\n",
        "\n"
      ]
    },
    {
      "cell_type": "markdown",
      "metadata": {
        "id": "JyjWb1i_LFF5",
        "colab_type": "text"
      },
      "source": [
        "![image.png](data:image/png;base64,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)"
      ]
    },
    {
      "cell_type": "code",
      "metadata": {
        "id": "fpLD02FbpwJp",
        "colab_type": "code",
        "colab": {
          "base_uri": "https://localhost:8080/",
          "height": 34
        },
        "outputId": "a5d959bd-ac18-440a-e084-4138897763db"
      },
      "source": [
        "t=symbols('t') # Defining the symbols in the equation. In RHS we only have t so we define t.\n",
        "y=20*t**-4 + 9\n",
        "\n",
        "dy_dt=diff(y) #Performing differentiation\n",
        "\n",
        "print(dy_dt)"
      ],
      "execution_count": 4,
      "outputs": [
        {
          "output_type": "stream",
          "text": [
            "-80/t**5\n"
          ],
          "name": "stdout"
        }
      ]
    },
    {
      "cell_type": "markdown",
      "metadata": {
        "id": "xbuAGi9SMhPP",
        "colab_type": "text"
      },
      "source": [
        "![image.png](data:image/png;base64,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)"
      ]
    },
    {
      "cell_type": "code",
      "metadata": {
        "id": "WzXokBXzoDQC",
        "colab_type": "code",
        "colab": {
          "base_uri": "https://localhost:8080/",
          "height": 34
        },
        "outputId": "e171cc8c-89f5-44f6-fe60-05858a34d546"
      },
      "source": [
        "y= (t+sin(t))/tan(t)\n",
        "\n",
        "\n",
        "\n",
        "dy_dt= diff(y)\n",
        "print(dy_dt)"
      ],
      "execution_count": 14,
      "outputs": [
        {
          "output_type": "stream",
          "text": [
            "(t + sin(t))*(-tan(t)**2 - 1)/tan(t)**2 + (cos(t) + 1)/tan(t)\n"
          ],
          "name": "stdout"
        }
      ]
    },
    {
      "cell_type": "markdown",
      "metadata": {
        "id": "9x3hs8HXNTRc",
        "colab_type": "text"
      },
      "source": [
        "![image.png](data:image/png;base64,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)"
      ]
    },
    {
      "cell_type": "code",
      "metadata": {
        "id": "0N4gL1MfqFXT",
        "colab_type": "code",
        "colab": {
          "base_uri": "https://localhost:8080/",
          "height": 34
        },
        "outputId": "4ba7e478-3e1d-4975-af4a-91713afa0d77"
      },
      "source": [
        "y= (log(t))/t**2\n",
        "\n",
        "dy_dt=diff(y)\n",
        "\n",
        "print(dy_dt)"
      ],
      "execution_count": null,
      "outputs": [
        {
          "output_type": "stream",
          "text": [
            "-2*log(t)/t**3 + t**(-3)\n"
          ],
          "name": "stdout"
        }
      ]
    },
    {
      "cell_type": "markdown",
      "metadata": {
        "id": "_zjw9K5cNWTM",
        "colab_type": "text"
      },
      "source": [
        "Differentiate **3cot(t)+ 5cosec(t)+ v** with respect to\n",
        "\n",
        "i.\tx\n",
        "\n",
        "ii.\tv\n"
      ]
    },
    {
      "cell_type": "code",
      "metadata": {
        "id": "tqc5a7Y2qaOh",
        "colab_type": "code",
        "colab": {
          "base_uri": "https://localhost:8080/",
          "height": 70
        },
        "outputId": "a6da8447-1abe-4759-b97a-a2cfb0beaaef"
      },
      "source": [
        "t,v=symbols('t v') # Since in RHS we have two variables t and v so we are defining both\n",
        "y=3* cot(t)+5* csc(t)+v # note cosec is denoted as csc\n",
        "\n",
        "dy_dt=diff(y,t) # Differentiating y wrt t\n",
        "\n",
        "print(dy_dt)\n",
        "\n",
        "\n",
        "print('----------------')\n",
        "\n",
        "\n",
        "dy_dv=diff(y,v) # Differentiating y wrt v\n",
        "\n",
        "print(dy_dv)"
      ],
      "execution_count": null,
      "outputs": [
        {
          "output_type": "stream",
          "text": [
            "-3*cot(t)**2 - 5*cot(t)*csc(t) - 3\n",
            "----------------\n",
            "1\n"
          ],
          "name": "stdout"
        }
      ]
    },
    {
      "cell_type": "markdown",
      "metadata": {
        "id": "h5nOYDsFOFwq",
        "colab_type": "text"
      },
      "source": [
        "![image.png](data:image/png;base64,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)"
      ]
    },
    {
      "cell_type": "markdown",
      "metadata": {
        "id": "KIYFJEbMO1Zj",
        "colab_type": "text"
      },
      "source": [
        ""
      ]
    },
    {
      "cell_type": "code",
      "metadata": {
        "id": "Z3mAWBmpr9bi",
        "colab_type": "code",
        "colab": {
          "base_uri": "https://localhost:8080/",
          "height": 52
        },
        "outputId": "db3110c8-08c3-4a0f-b07a-a8a11005b83a"
      },
      "source": [
        "x,a,b,c=symbols('x a b c')\n",
        "y=1/(a*x**2+b*x+c)\n",
        "\n",
        "dy_dx= diff(y,x)\n",
        "print(dy_dx)\n",
        "\n",
        "val= lambdify([x,a,b,c],dy_dx) # We use lambdify to convert value of dy_dx into equivalent function for numerical evaluation. In the square bracket we put all the variables present in our original expression.\n",
        "\n",
        "print(val(3,2,2,2)) # We put the values of x,a,b,c respectively inside the bracket"
      ],
      "execution_count": 23,
      "outputs": [
        {
          "output_type": "stream",
          "text": [
            "(-2*a*x - b)/(a*x**2 + b*x + c)**2\n",
            "-0.020710059171597635\n"
          ],
          "name": "stdout"
        }
      ]
    },
    {
      "cell_type": "markdown",
      "metadata": {
        "id": "IJiKFgu5Oy72",
        "colab_type": "text"
      },
      "source": [
        "# Integration"
      ]
    },
    {
      "cell_type": "markdown",
      "metadata": {
        "id": "F1NmalU2Tj19",
        "colab_type": "text"
      },
      "source": [
        "![image.png](data:image/png;base64,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)"
      ]
    },
    {
      "cell_type": "code",
      "metadata": {
        "id": "NePX5p51wJYW",
        "colab_type": "code",
        "colab": {
          "base_uri": "https://localhost:8080/",
          "height": 34
        },
        "outputId": "dad08701-f104-485f-dddc-fc57915c9da6"
      },
      "source": [
        "x=symbols('x')\n",
        "\n",
        "y= sin(4*x)* cos(3*x)\n",
        "\n",
        "\n",
        "y2=integrate(y) # Performing integration\n",
        "\n",
        "print(y2)"
      ],
      "execution_count": 18,
      "outputs": [
        {
          "output_type": "stream",
          "text": [
            "-3*sin(3*x)*sin(4*x)/7 - 4*cos(3*x)*cos(4*x)/7\n"
          ],
          "name": "stdout"
        }
      ]
    },
    {
      "cell_type": "markdown",
      "metadata": {
        "id": "3EgoClv2TDm2",
        "colab_type": "text"
      },
      "source": [
        "![image.png](data:image/png;base64,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)"
      ]
    },
    {
      "cell_type": "code",
      "metadata": {
        "id": "RpxX9yAHIlUX",
        "colab_type": "code",
        "colab": {
          "base_uri": "https://localhost:8080/",
          "height": 34
        },
        "outputId": "353c707e-eae4-4eed-d9c7-444ff2722a3b"
      },
      "source": [
        "y=x**3\n",
        "\n",
        "y2_d=integrate(y,(x,-1,2)) # Performing definite integration of the expression with limits -1 to 2\n",
        "\n",
        "print(y2_d)"
      ],
      "execution_count": 22,
      "outputs": [
        {
          "output_type": "stream",
          "text": [
            "15/4\n"
          ],
          "name": "stdout"
        }
      ]
    },
    {
      "cell_type": "markdown",
      "metadata": {
        "id": "9fJ6-1vpVyxp",
        "colab_type": "text"
      },
      "source": [
        "**Reference:**\n",
        "\n",
        "**A Primer on Scientific**\n",
        "**Programming with Python, Springer - Hans Petter Langtangen** "
      ]
    }
  ]
}