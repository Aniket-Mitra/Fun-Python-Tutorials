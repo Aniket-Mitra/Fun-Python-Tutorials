{
  "nbformat": 4,
  "nbformat_minor": 0,
  "metadata": {
    "colab": {
      "name": "PDF_MERGER.ipynb",
      "provenance": []
    },
    "kernelspec": {
      "name": "python3",
      "display_name": "Python 3"
    }
  },
  "cells": [
    {
      "cell_type": "markdown",
      "metadata": {
        "id": "KzzglexMqcXe",
        "colab_type": "text"
      },
      "source": [
        "# Merging PDF Files"
      ]
    },
    {
      "cell_type": "code",
      "metadata": {
        "id": "OZyxsXJHljI_",
        "colab_type": "code",
        "colab": {
          "base_uri": "https://localhost:8080/",
          "height": 34
        },
        "outputId": "e5e55d3f-3653-4e33-e758-2d8442f9545f"
      },
      "source": [
        "!pip install PyPDF2"
      ],
      "execution_count": 12,
      "outputs": [
        {
          "output_type": "stream",
          "text": [
            "Requirement already satisfied: PyPDF2 in /usr/local/lib/python3.6/dist-packages (1.26.0)\n"
          ],
          "name": "stdout"
        }
      ]
    },
    {
      "cell_type": "code",
      "metadata": {
        "id": "5-ybH9mqlsiG",
        "colab_type": "code",
        "colab": {
          "base_uri": "https://localhost:8080/",
          "height": 68
        },
        "outputId": "f446854f-1b2a-467a-fab9-e7996e048389"
      },
      "source": [
        "!ls"
      ],
      "execution_count": 13,
      "outputs": [
        {
          "output_type": "stream",
          "text": [
            "1st_sem_mark.pdf  4th_Sem_mark.pdf  7th_Sem.pdf\t\t   sample_data\n",
            "2nd_sem_mark.pdf  5th_sem_mark.pdf  Aniket.pdf\n",
            "3rd_sem-mark.pdf  6th_sem-_R.pdf    IMG_20200912_0001.pdf\n"
          ],
          "name": "stdout"
        }
      ]
    },
    {
      "cell_type": "code",
      "metadata": {
        "id": "mtArdCDPrfIQ",
        "colab_type": "code",
        "colab": {}
      },
      "source": [
        ""
      ],
      "execution_count": null,
      "outputs": []
    },
    {
      "cell_type": "code",
      "metadata": {
        "id": "_YLMCd_pki7l",
        "colab_type": "code",
        "colab": {}
      },
      "source": [
        "# opening required files\n",
        "import PyPDF2\n",
        "sem_1=open('1st_sem_mark.pdf', 'rb')\n",
        "sem_2=open('2nd_sem_mark.pdf','rb')\n",
        "sem_3=open('3rd_sem-mark.pdf','rb')\n",
        "sem_4=open('4th_Sem_mark.pdf','rb')\n",
        "sem_5=open('5th_sem_mark.pdf','rb')\n",
        "sem_6=open('6th_sem-_R.pdf','rb')\n",
        "sem_7=open('7th_Sem.pdf','rb')\n",
        "sem_8=open('Aniket.pdf','rb')\n",
        "tcpa=open('IMG_20200912_0001.pdf','rb')"
      ],
      "execution_count": 14,
      "outputs": []
    },
    {
      "cell_type": "code",
      "metadata": {
        "id": "AIyw7e0dmy5y",
        "colab_type": "code",
        "colab": {}
      },
      "source": [
        "# Reading the files\n",
        "sem1 = PyPDF2.PdfFileReader(sem_1)\n",
        "sem2 = PyPDF2.PdfFileReader(sem_2)\n",
        "sem3 = PyPDF2.PdfFileReader(sem_3)\n",
        "sem4 = PyPDF2.PdfFileReader(sem_4)\n",
        "sem5 = PyPDF2.PdfFileReader(sem_5)\n",
        "sem6 = PyPDF2.PdfFileReader(sem_6)\n",
        "sem7 = PyPDF2.PdfFileReader(sem_7)\n",
        "sem8 = PyPDF2.PdfFileReader(sem_8)\n",
        "tcp = PyPDF2.PdfFileReader(tcpa)"
      ],
      "execution_count": 15,
      "outputs": []
    },
    {
      "cell_type": "code",
      "metadata": {
        "id": "b10lfAlmoAd9",
        "colab_type": "code",
        "colab": {}
      },
      "source": [
        "# Copying all the pages of a pdf document\n",
        "pdfWriter = PyPDF2.PdfFileWriter()\n",
        "\n",
        "for pageNum in range(sem1.numPages):\n",
        "    pageObj = sem1.getPage(pageNum)\n",
        "    pdfWriter.addPage(pageObj)\n",
        "\n",
        "for pageNum in range(sem2.numPages):\n",
        "    pageObj = sem2.getPage(pageNum)\n",
        "    pdfWriter.addPage(pageObj)\n",
        "\n",
        "for pageNum in range(sem3.numPages):\n",
        "    pageObj = sem3.getPage(pageNum)\n",
        "    pdfWriter.addPage(pageObj)\n",
        "\n",
        "for pageNum in range(sem4.numPages):\n",
        "    pageObj = sem4.getPage(pageNum)\n",
        "    pdfWriter.addPage(pageObj)\n",
        "\n",
        "for pageNum in range(sem5.numPages):\n",
        "    pageObj = sem5.getPage(pageNum)\n",
        "    pdfWriter.addPage(pageObj)\n",
        "\n",
        "for pageNum in range(sem6.numPages):\n",
        "    pageObj = sem6.getPage(pageNum)\n",
        "    pdfWriter.addPage(pageObj)\n",
        "\n",
        "for pageNum in range(sem7.numPages):\n",
        "    pageObj = sem7.getPage(pageNum)\n",
        "    pdfWriter.addPage(pageObj)\n",
        "\n",
        "for pageNum in range(sem8.numPages):\n",
        "    pageObj = sem8.getPage(pageNum)\n",
        "    pdfWriter.addPage(pageObj)\n",
        "\n",
        "for pageNum in range(tcp.numPages):\n",
        "    pageObj = tcp.getPage(pageNum)\n",
        "    pdfWriter.addPage(pageObj)\n"
      ],
      "execution_count": 16,
      "outputs": []
    },
    {
      "cell_type": "code",
      "metadata": {
        "id": "gqHfM9eFnQ18",
        "colab_type": "code",
        "colab": {}
      },
      "source": [
        "# Saving final document\n",
        "pdfOutputFile = open('final_pdf_.pdf', 'wb')\n",
        "pdfWriter.write(pdfOutputFile)\n",
        "pdfOutputFile.close()\n"
      ],
      "execution_count": 17,
      "outputs": []
    },
    {
      "cell_type": "markdown",
      "metadata": {
        "id": "w3IhMeh8qXUC",
        "colab_type": "text"
      },
      "source": [
        "**Reference:**  https://caendkoelsch.wordpress.com/2019/05/10/merging-multiple-pdfs-into-a-single-pdf/"
      ]
    }
  ]
}