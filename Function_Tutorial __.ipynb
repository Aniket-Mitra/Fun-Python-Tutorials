{
  "nbformat": 4,
  "nbformat_minor": 0,
  "metadata": {
    "colab": {
      "name": "Function_Tutorial.ipynb",
      "provenance": [],
      "collapsed_sections": []
    },
    "kernelspec": {
      "name": "python3",
      "display_name": "Python 3"
    }
  },
  "cells": [
    {
      "cell_type": "markdown",
      "metadata": {
        "id": "MFasP1gVtEAw",
        "colab_type": "text"
      },
      "source": [
        "# Basics of Functions For Data Science"
      ]
    },
    {
      "cell_type": "markdown",
      "metadata": {
        "id": "ocwcu_pLaNT0",
        "colab_type": "text"
      },
      "source": [
        "***Lambda functions*** are short functions and quite-handy. You need not define a name for it. You can use **any number of variables** but **one expression/operation** on them. Let's understand them with examples."
      ]
    },
    {
      "cell_type": "code",
      "metadata": {
        "id": "Tto2jcEEtMI8",
        "colab_type": "code",
        "colab": {
          "base_uri": "https://localhost:8080/",
          "height": 69
        },
        "outputId": "ad9270a1-77c3-4366-d6b8-362af9a6bf9b"
      },
      "source": [
        "#Adding two numbers with lambda function\n",
        "sum1=(lambda x,y: x+y)\n",
        "print(sum1(5,2))\n",
        "\n",
        "print('-----------------------------')\n",
        "\n",
        "#Multiplying 3 numbers\n",
        "Multiply=lambda x,y,z: x*y*z\n",
        "print(Multiply(1,2,3))"
      ],
      "execution_count": null,
      "outputs": [
        {
          "output_type": "stream",
          "text": [
            "7\n",
            "-----------------------------\n",
            "6\n"
          ],
          "name": "stdout"
        }
      ]
    },
    {
      "cell_type": "markdown",
      "metadata": {
        "id": "yR990ZceuGeq",
        "colab_type": "text"
      },
      "source": [
        "**map()** function can be used to apply a function to each and every element of a list/tuple. Lets see an example below."
      ]
    },
    {
      "cell_type": "code",
      "metadata": {
        "id": "P-ug8h5jRAAx",
        "colab_type": "code",
        "colab": {
          "base_uri": "https://localhost:8080/",
          "height": 34
        },
        "outputId": "661e6c87-d4ea-4cec-948f-f1e856436726"
      },
      "source": [
        "#Lets add $ sign before number to denote money\n",
        "list1=[1,2,3,4,5,6]\n",
        "def dollar(l):\n",
        "  result= map(lambda x: '$'+str(x),list1)\n",
        "  return list(result)\n",
        "dollar(list1)"
      ],
      "execution_count": null,
      "outputs": [
        {
          "output_type": "execute_result",
          "data": {
            "text/plain": [
              "['$1', '$2', '$3', '$4', '$5', '$6']"
            ]
          },
          "metadata": {
            "tags": []
          },
          "execution_count": 2
        }
      ]
    },
    {
      "cell_type": "markdown",
      "metadata": {
        "id": "VyEBWpa5uS22",
        "colab_type": "text"
      },
      "source": [
        "**filter()** function is used to filter a collection of elements based on some condition. Let's see an example below."
      ]
    },
    {
      "cell_type": "code",
      "metadata": {
        "id": "dkfzGGh5R9Jj",
        "colab_type": "code",
        "colab": {
          "base_uri": "https://localhost:8080/",
          "height": 34
        },
        "outputId": "5e330bee-7c67-488c-e7d7-33a46f79d32e"
      },
      "source": [
        "#Let's print money amount greater than 3\n",
        "def filter_tutorial(x):\n",
        "  result=filter(lambda x: x>3,list1)\n",
        "  return list(result)\n",
        "filter_tutorial(list1)"
      ],
      "execution_count": null,
      "outputs": [
        {
          "output_type": "execute_result",
          "data": {
            "text/plain": [
              "[4, 5, 6]"
            ]
          },
          "metadata": {
            "tags": []
          },
          "execution_count": 8
        }
      ]
    },
    {
      "cell_type": "markdown",
      "metadata": {
        "id": "Oc2kLm4GvA2U",
        "colab_type": "text"
      },
      "source": [
        "**reduce()** function derives the value/result by applying an operation/expression to a number of variables"
      ]
    },
    {
      "cell_type": "code",
      "metadata": {
        "id": "r_RG11YRSydp",
        "colab_type": "code",
        "colab": {
          "base_uri": "https://localhost:8080/",
          "height": 34
        },
        "outputId": "302597e2-5a1e-40cf-b513-37fe4fb5d5f1"
      },
      "source": [
        "# Below we find the product of all money in list1\n",
        "from functools import reduce\n",
        "def reduce_tutorial(l):\n",
        "   result=reduce(lambda x1,x2: x1*x2,l)\n",
        "   return [result]\n",
        "reduce_tutorial(list1)"
      ],
      "execution_count": null,
      "outputs": [
        {
          "output_type": "execute_result",
          "data": {
            "text/plain": [
              "[720]"
            ]
          },
          "metadata": {
            "tags": []
          },
          "execution_count": 9
        }
      ]
    },
    {
      "cell_type": "markdown",
      "metadata": {
        "id": "WIel7dpXvRL0",
        "colab_type": "text"
      },
      "source": [
        "variables defined outside function are **global** in nature, you can use them anywhere in the whole code even within any function. \n",
        "\n",
        "We can **return the result** of a function using ***return*** keyword. Returning result of a function is necessary if you want to use the result later."
      ]
    },
    {
      "cell_type": "code",
      "metadata": {
        "id": "HVQq76-DTqGf",
        "colab_type": "code",
        "colab": {
          "base_uri": "https://localhost:8080/",
          "height": 34
        },
        "outputId": "222e3dc1-cdbb-4bfd-bf63-61f369aace08"
      },
      "source": [
        "#Using the result returned by the function to print another statement Note base_fare and extra are global variables here we can use them even within taxi_fare function. \n",
        "#If we had described them within taxi_fare we could not have used them outside the function so in that case they would act as local function.\n",
        "\n",
        "base_fare=150 #min. fare you have to pay for boarding a taxi\n",
        "extra=2 #extra amount to be paid per Km of journey\n",
        "def taxi_fare(k):\n",
        "     total_fare=base_fare+extra*k #total fare to be paid at the end of journey\n",
        "     return 'The total taxi fare is: {}'.format(total_fare)\n",
        "taxi_fare(2)\n",
        "\n",
        "\n",
        "print('I came home today by taxi. '+taxi_fare(5))"
      ],
      "execution_count": null,
      "outputs": [
        {
          "output_type": "stream",
          "text": [
            "I came home today by taxi. The total taxi fare is: 160\n"
          ],
          "name": "stdout"
        }
      ]
    },
    {
      "cell_type": "code",
      "metadata": {
        "id": "eM65nGjOUqkY",
        "colab_type": "code",
        "colab": {
          "base_uri": "https://localhost:8080/",
          "height": 236
        },
        "outputId": "10e4d211-38b5-45b8-f124-81092fb9cdea"
      },
      "source": [
        "#If we do not return the value of a function and try to use it later, it will cause error as shown below \n",
        "base_fare=150\n",
        "extra=2 #same as extra_fare\n",
        "def taxi_fare(k):\n",
        "     total_fare=base_fare+extra*k\n",
        "     print('The total taxi fare is: {}'.format(total_fare))\n",
        "taxi_fare(2)\n",
        "\n",
        "\n",
        "print('I came home today by taxi. '+taxi_fare(5))"
      ],
      "execution_count": null,
      "outputs": [
        {
          "output_type": "stream",
          "text": [
            "The total taxi fare is: 154\n",
            "The total taxi fare is: 160\n"
          ],
          "name": "stdout"
        },
        {
          "output_type": "error",
          "ename": "TypeError",
          "evalue": "ignored",
          "traceback": [
            "\u001b[0;31m---------------------------------------------------------------------------\u001b[0m",
            "\u001b[0;31mTypeError\u001b[0m                                 Traceback (most recent call last)",
            "\u001b[0;32m<ipython-input-15-6bd56f84c963>\u001b[0m in \u001b[0;36m<module>\u001b[0;34m()\u001b[0m\n\u001b[1;32m      7\u001b[0m \u001b[0;34m\u001b[0m\u001b[0m\n\u001b[1;32m      8\u001b[0m \u001b[0;34m\u001b[0m\u001b[0m\n\u001b[0;32m----> 9\u001b[0;31m \u001b[0mprint\u001b[0m\u001b[0;34m(\u001b[0m\u001b[0;34m'I came home today by taxi. '\u001b[0m\u001b[0;34m+\u001b[0m\u001b[0mtaxi_fare\u001b[0m\u001b[0;34m(\u001b[0m\u001b[0;36m5\u001b[0m\u001b[0;34m)\u001b[0m\u001b[0;34m)\u001b[0m\u001b[0;34m\u001b[0m\u001b[0;34m\u001b[0m\u001b[0m\n\u001b[0m",
            "\u001b[0;31mTypeError\u001b[0m: must be str, not NoneType"
          ]
        }
      ]
    },
    {
      "cell_type": "code",
      "metadata": {
        "id": "SIbPg3-gWWmS",
        "colab_type": "code",
        "colab": {
          "base_uri": "https://localhost:8080/",
          "height": 52
        },
        "outputId": "e838d942-8c2f-4703-db96-fcd68300f25c"
      },
      "source": [
        "#The keyword global enables us to use the variable described inside function outside as shown below.\n",
        "def taxi_fare(k):\n",
        "     \"\"\" Function to calculate the fare of taxi.\"\"\"  #documentation can be created for any function for convenience using the docstring method as shown\n",
        "     global base_fare\n",
        "     global extra_fare\n",
        "     base_fare=150\n",
        "     extra=5\n",
        "     total_fare=base_fare+extra*k\n",
        "     return 'The total taxi fare is: {}'.format(total_fare)\n",
        "print(taxi_fare(2))\n",
        "print(extra_fare) # Since extra_fare is global variable we can access it outside function"
      ],
      "execution_count": null,
      "outputs": [
        {
          "output_type": "stream",
          "text": [
            "The total taxi fare is: 160\n",
            "5\n"
          ],
          "name": "stdout"
        }
      ]
    },
    {
      "cell_type": "code",
      "metadata": {
        "id": "CwZKArpaXj7e",
        "colab_type": "code",
        "colab": {
          "base_uri": "https://localhost:8080/",
          "height": 104
        },
        "outputId": "9d44d819-7810-4c99-c5e6-5e0bba1db792"
      },
      "source": [
        "#to see the documentation of a function, syntax use any of the below commands. We are seeing the documentation of the function we created in above cell\n",
        "help(taxi_fare)\n",
        "#taxi_fare?"
      ],
      "execution_count": null,
      "outputs": [
        {
          "output_type": "stream",
          "text": [
            "Help on function taxi_fare in module __main__:\n",
            "\n",
            "taxi_fare(k)\n",
            "    Function to calculate the fare of taxi.\n",
            "\n"
          ],
          "name": "stdout"
        }
      ]
    },
    {
      "cell_type": "code",
      "metadata": {
        "id": "XhywKCShWoZU",
        "colab_type": "code",
        "colab": {
          "base_uri": "https://localhost:8080/",
          "height": 34
        },
        "outputId": "dc5c1716-0bc7-4f52-dadb-9711d229b416"
      },
      "source": [
        "# *args keyword can be used to pass on any number of parameters to a function\n",
        "def total_taxi_fare_week(*args): #we want to calculate the total fare of taxi of a particular person for a week.\n",
        "         base_fare=150\n",
        "         extra_fare=2       \n",
        "         grand_total=0 #total fare for a week\n",
        "         for arg in args:\n",
        "           total_fare=base_fare+extra*arg #fare for each day\n",
        "           grand_total=grand_total+total_fare\n",
        "         return grand_total\n",
        "total_taxi_fare_week(2,5,6,1,2,3,7)"
      ],
      "execution_count": null,
      "outputs": [
        {
          "output_type": "execute_result",
          "data": {
            "text/plain": [
              "1102"
            ]
          },
          "metadata": {
            "tags": []
          },
          "execution_count": 41
        }
      ]
    },
    {
      "cell_type": "code",
      "metadata": {
        "id": "dE7YDgRAZvNI",
        "colab_type": "code",
        "colab": {
          "base_uri": "https://localhost:8080/",
          "height": 34
        },
        "outputId": "9cf80b7f-52aa-4531-b1a9-51a59f0312de"
      },
      "source": [
        "#nested function is one function within another function as shown below\n",
        "def nested_func(*args):\n",
        "  base_fare=100\n",
        "  extra_fare_km=2\n",
        "  def inner_func(*args):\n",
        "    tot=0\n",
        "    for arg in args:\n",
        "      tot=tot+arg\n",
        "    return tot\n",
        "  total_fare_of_week=base_fare*7+extra_fare_km*inner_func(*args)\n",
        "  return total_fare_of_week\n",
        "nested_func(1,2,3)\n",
        "  "
      ],
      "execution_count": null,
      "outputs": [
        {
          "output_type": "execute_result",
          "data": {
            "text/plain": [
              "712"
            ]
          },
          "metadata": {
            "tags": []
          },
          "execution_count": 47
        }
      ]
    },
    {
      "cell_type": "markdown",
      "metadata": {
        "id": "n3XjGk5nCkH-",
        "colab_type": "text"
      },
      "source": [
        "**nonlocal variables** are used in nested function (*function inside another function*). If we need to update the value of a variable of outer function inside inner function we use **nonlocal** keyword before the variable"
      ]
    },
    {
      "cell_type": "code",
      "metadata": {
        "id": "znCtbDjJ_vWN",
        "colab_type": "code",
        "colab": {
          "base_uri": "https://localhost:8080/",
          "height": 69
        },
        "outputId": "90dc1060-94d6-41d8-a721-8fc1d7618a62"
      },
      "source": [
        "#Notics the updated value of variable z is returned in 2nd case with the use of the keyword nonlocal but in the first case it is not\n",
        "\n",
        "#Let's code a function to greet our friend Neeta\n",
        "\n",
        "def non_local(y): \n",
        "  z='!!!'\n",
        "  def inner_nonlocal():\n",
        "    #nonlocal z\n",
        "    z='!!!!!!!!!!' \n",
        "    x='Hello '+y+z\n",
        "    return x\n",
        "  return (inner_nonlocal(),z) # we will get the initial value of z\n",
        "print(non_local('Neeta'))\n",
        "\n",
        "print('-----------------------------------------------------------------------------------------------')\n",
        "\n",
        "\n",
        "def non_local(y):\n",
        "  z='!!!'\n",
        "  def inner_nonlocal():\n",
        "    nonlocal z\n",
        "    z='!!!!!!!!!!'\n",
        "    x='Hello '+y+z\n",
        "    return x\n",
        "  return (inner_nonlocal(),z) # we will get the updated value of z inside the inner function\n",
        "print(non_local('Neeta'))\n",
        "\n",
        "\n"
      ],
      "execution_count": null,
      "outputs": [
        {
          "output_type": "stream",
          "text": [
            "('Hello Neeta!!!!!!!!!!', '!!!')\n",
            "-----------------------------------------------------------------------------------------------\n",
            "('Hello Neeta!!!!!!!!!!', '!!!!!!!!!!')\n"
          ],
          "name": "stdout"
        }
      ]
    },
    {
      "cell_type": "code",
      "metadata": {
        "id": "r9YyfHXacjIq",
        "colab_type": "code",
        "colab": {
          "base_uri": "https://localhost:8080/",
          "height": 52
        },
        "outputId": "073a7c44-ff58-4fc6-95cc-e788636ab9a8"
      },
      "source": [
        "#We can initialize the value of the parameters of the function as shown below\n",
        "def taxi_fare(base_fare=150,extra_fare_km=2,km=2):\n",
        "      total=base_fare+extra_fare_km*km\n",
        "      return total\n",
        "print(taxi_fare())\n",
        "\n",
        "#We can also change the values if we want. Below, base_fare=100,fare_km=1,km=1\n",
        "print(taxi_fare(100,1,1))"
      ],
      "execution_count": null,
      "outputs": [
        {
          "output_type": "stream",
          "text": [
            "154\n",
            "101\n"
          ],
          "name": "stdout"
        }
      ]
    },
    {
      "cell_type": "code",
      "metadata": {
        "id": "_lIdcdoBIHFH",
        "colab_type": "code",
        "colab": {}
      },
      "source": [
        ""
      ],
      "execution_count": null,
      "outputs": []
    },
    {
      "cell_type": "code",
      "metadata": {
        "id": "UnakoPyeIIqY",
        "colab_type": "code",
        "colab": {}
      },
      "source": [
        ""
      ],
      "execution_count": null,
      "outputs": []
    },
    {
      "cell_type": "markdown",
      "metadata": {
        "id": "j82z9AmrIJrY",
        "colab_type": "text"
      },
      "source": [
        "## Reference:\n",
        "\n",
        "**1. Introducion to Python Toolbox (Part 1) by DataCamp**\n",
        "\n",
        "**2. Introduction to Python Toolbox (Part2) by DataCamp**\n",
        "\n",
        "**3. Udacity Bertelsman Technology Scholarship Program Data Track** \n",
        "\n",
        "\n",
        "\n",
        "# I will make a tutorial on using functions on real datasets soon !!!!!!!!!"
      ]
    }
  ]
}